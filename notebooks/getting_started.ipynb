{
 "cells": [
  {
   "attachments": {},
   "cell_type": "markdown",
   "metadata": {},
   "source": [
    "# Getting Started with LangChain\n",
    "This notebook shows how to assemble a basic LangChain chain of tasks using the OpenAI API as the backend. This tutorial will require you to have your own OpenAI API key."
   ]
  },
  {
   "attachments": {},
   "cell_type": "markdown",
   "metadata": {},
   "source": [
    "## Notebook Setup"
   ]
  },
  {
   "cell_type": "code",
   "execution_count": 1,
   "metadata": {},
   "outputs": [],
   "source": [
    "# Importing the necessary Python libraries\n",
    "import os\n",
    "import yaml\n",
    "from langchain.llms import OpenAI\n",
    "from langchain.prompts import PromptTemplate\n",
    "from langchain.chains import LLMChain, SequentialChain\n",
    "from langchain.utilities import WikipediaAPIWrapper"
   ]
  },
  {
   "cell_type": "code",
   "execution_count": 2,
   "metadata": {},
   "outputs": [],
   "source": [
    "# Loading the API key and organization ID from file (NOT pushed to GitHub)\n",
    "with open('../keys/openai-keys.yaml') as f:\n",
    "    keys_yaml = yaml.safe_load(f)\n",
    "\n",
    "# Setting the OpenAI API key as an environment variable\n",
    "os.environ['OPENAI_API_KEY'] = keys_yaml['API_KEY']"
   ]
  },
  {
   "cell_type": "code",
   "execution_count": 3,
   "metadata": {},
   "outputs": [],
   "source": [
    "# Using LangChain to connect to OpenAI\n",
    "openai_llm = OpenAI()"
   ]
  },
  {
   "cell_type": "code",
   "execution_count": 4,
   "metadata": {},
   "outputs": [],
   "source": [
    "# Instantiating an object to obtain results from the Wikipedia API\n",
    "wikipedia_api = WikipediaAPIWrapper(top_k_results = 1)"
   ]
  },
  {
   "attachments": {},
   "cell_type": "markdown",
   "metadata": {},
   "source": [
    "## Prompt Templates\n",
    "In order to create a chained set of tasks, we need to instantiate the individual tasks with **prompt templates**. Prompt templates combine an input alongside some preset feature engineering to produce a precise result (also known as a Completion)."
   ]
  },
  {
   "cell_type": "code",
   "execution_count": 12,
   "metadata": {},
   "outputs": [],
   "source": [
    "# Creating a prompt template for checking to see if the inputted individual is a historical figure\n",
    "is_historical_figure_template = PromptTemplate(\n",
    "    input_variables = ['entity_name'],\n",
    "    template = 'Is the following entity a person, and if yes, would you consider this person to be a historical figure: {entity_name}. Please give me back just a yes or no answer.'\n",
    ")\n",
    "\n",
    "# Creating a prompt template for generating a research paper outline the three most important events in the historical figure's life\n",
    "research_paper_outline_template = PromptTemplate(\n",
    "    input_variables = ['entity_name', 'wikipedia_entry'],\n",
    "    template = 'The following is a Wikipedia entry about {entity_name}. Please provide for me an outline of a basic research paper with an introduction, the three most important events of this person\\'s life, and a conclusion. Here is the Wikipedia information:\\n\\n {wikipedia_entry}'\n",
    ")\n",
    "\n",
    "# Creating a prompt template for generating a research paper based on the outline generated from the previous prompt template\n",
    "research_paper_template = PromptTemplate(\n",
    "    input_variables = ['entity_name', 'research_paper_outline'],\n",
    "    template = 'You are a high schooler who has just been assigned research paper about a historical figure. The historical figure is {entity_name}, and the following is an outline to follow:\\n {research_paper_outline}. Please write a research paper approximately three pages in length.'\n",
    ")\n",
    "\n",
    "# Creating a prompt template for re-writing the research paper as Jar Jar Binks\n",
    "jar_jar_template = PromptTemplate(\n",
    "    input_variables = ['research_paper'],\n",
    "    template = 'Please rewrite the following research paper in the tone of Jar Jar Binks from Star Wars:\\n\\n {research_paper}'\n",
    ")"
   ]
  },
  {
   "cell_type": "code",
   "execution_count": 13,
   "metadata": {},
   "outputs": [],
   "source": [
    "# Instantiating the LangChains objects for all the prompt templates defined above\n",
    "is_historical_figure_chain = LLMChain(llm = openai_llm, prompt = is_historical_figure_template, verbose = True, output_key = 'is_historical_figure')\n",
    "research_paper_outline_chain = LLMChain(llm = openai_llm, prompt = research_paper_outline_template, verbose = True, output_key = 'research_paper_outline')\n",
    "research_paper_chain = LLMChain(llm = openai_llm, prompt = research_paper_template, verbose = True, output_key = 'research_paper')\n",
    "jar_jar_chain = LLMChain(llm = openai_llm, prompt = jar_jar_template, verbose = True, output_key = 'jar_jar_paper')"
   ]
  },
  {
   "attachments": {},
   "cell_type": "markdown",
   "metadata": {},
   "source": [
    "## Instantiating the LangChain"
   ]
  },
  {
   "cell_type": "code",
   "execution_count": 14,
   "metadata": {},
   "outputs": [],
   "source": [
    "# Creating the LangChain chain\n",
    "research_paper_langchain = SequentialChain(chains = [research_paper_outline_chain, research_paper_chain, jar_jar_chain],\n",
    "                                           input_variables = ['entity_name', 'wikipedia_entry'],\n",
    "                                           output_variables = ['research_paper_outline', 'research_paper', 'jar_jar_paper'],\n",
    "                                           verbose = True)"
   ]
  },
  {
   "attachments": {},
   "cell_type": "markdown",
   "metadata": {},
   "source": [
    "## Using the LangChain"
   ]
  },
  {
   "cell_type": "code",
   "execution_count": 15,
   "metadata": {},
   "outputs": [],
   "source": [
    "# Setting an entity for test purposes\n",
    "entity_name = 'Steve Jobs'"
   ]
  },
  {
   "cell_type": "code",
   "execution_count": 16,
   "metadata": {},
   "outputs": [],
   "source": [
    "# Getting the wikipedia information associated to the historical figure\n",
    "wikipedia_entry = wikipedia_api.run(f'{entity_name} (person)')"
   ]
  },
  {
   "cell_type": "code",
   "execution_count": 17,
   "metadata": {},
   "outputs": [
    {
     "name": "stdout",
     "output_type": "stream",
     "text": [
      "\n",
      "\n",
      "\u001b[1m> Entering new SequentialChain chain...\u001b[0m\n",
      "\n",
      "\n",
      "\u001b[1m> Entering new LLMChain chain...\u001b[0m\n",
      "Prompt after formatting:\n",
      "\u001b[32;1m\u001b[1;3mThe following is a Wikipedia entry about Steve Jobs. Please provide for me an outline of a basic research paper with an introduction, the three most important events of this person's life, and a conclusion. Here is the Wikipedia information:\n",
      "\n",
      " Page: Steve Jobs\n",
      "Summary: Steven Paul Jobs (February 24, 1955 – October 5, 2011) was an American business magnate, inventor, and investor. He was the co-founder, chairman, and CEO of Apple; the chairman and majority shareholder of Pixar; a member of The Walt Disney Company's board of directors following its acquisition of Pixar; and the founder, chairman, and CEO of NeXT. He was a pioneer of the personal computer revolution of the 1970s and 1980s, along with his early business partner and fellow Apple co-founder Steve Wozniak.\n",
      "Jobs was born in San Francisco to a Syrian father and German-American mother. He was adopted shortly after his birth. Jobs attended Reed College in 1972 before withdrawing that same year. In 1974, he traveled through India seeking enlightenment before later studying Zen Buddhism. He and Wozniak co-founded Apple in 1976 to sell Wozniak's Apple I personal computer. Together the duo gained fame and wealth a year later with production and sale of the Apple II, one of the first highly successful mass-produced microcomputers. Jobs saw the commercial potential of the Xerox Alto in 1979, which was mouse-driven and had a graphical user interface (GUI). This led to the development of the unsuccessful Apple Lisa in 1983, followed by the breakthrough Macintosh in 1984, the first mass-produced computer with a GUI. The Macintosh introduced the desktop publishing industry in 1985 with the addition of the Apple LaserWriter, the first laser printer to feature vector graphics.\n",
      "In 1985, Jobs was forced out of Apple after a long power struggle with the company's board and its then-CEO, John Sculley. That same year, Jobs took a few Apple employees with him to found NeXT, a computer platform development company that specialized in computers for higher-education and business markets. In addition, he helped to develop the visual effects industry when he funded the computer graphics division of George Lucas's Lucasfilm in 1986. The new company was Pixar, which produced the first 3D computer-animated feature film Toy Story (1995) and went on to become a major animation studio, producing over 25 films since.\n",
      "In 1997, Jobs returned to Apple as CEO after the company's acquisition of NeXT. He was largely responsible for reviving Apple, which was on the verge of bankruptcy. He worked closely with English designer Jony Ive to develop a line of products that had larger cultural ramifications, beginning with the \"Think different\" advertising campaign and leading to the Apple Store, App Store (iOS), iMac, iPad, iPod, iPhone, iTunes, and iTunes Store. In 2001, the original Mac OS was replaced with the completely new Mac OS X (later known as macOS), based on NeXT's NeXTSTEP platform, giving the operating system a modern Unix-based foundation for the first time. In 2003, Jobs was diagnosed with a pancreatic neuroendocrine tumor. He died of respiratory arrest related to the tumor in 2011, at the age of 56, with Tim Cook succeeding him as CEO of Apple. In 2022, he was posthumously awarded the Presidential Medal of Freedom.\u001b[0m\n",
      "\n",
      "\u001b[1m> Finished chain.\u001b[0m\n",
      "\n",
      "\n",
      "\u001b[1m> Entering new LLMChain chain...\u001b[0m\n",
      "Prompt after formatting:\n",
      "\u001b[32;1m\u001b[1;3mYou are a high schooler who has just been assigned research paper about a historical figure. The historical figure is Steve Jobs, and the following is an outline to follow:\n",
      " \n",
      "\n",
      "Outline of a Basic Research Paper on Steve Jobs\n",
      "\n",
      "I. Introduction\n",
      "A. Overview of Steve Jobs\n",
      "B. Overview of Significant Events\n",
      "\n",
      "II. Three Most Important Events in Steve Jobs' Life\n",
      "A. Co-Founding of Apple (1976)\n",
      "B. Development of the Macintosh (1984)\n",
      "C. Return to Apple (1997)\n",
      "\n",
      "III. Conclusion\n",
      "A. Summary of Significant Events\n",
      "B. Impact of Jobs on Apple and Technology Industry. Please write a research paper approximately three pages in length.\u001b[0m\n",
      "\n",
      "\u001b[1m> Finished chain.\u001b[0m\n",
      "\n",
      "\n",
      "\u001b[1m> Entering new LLMChain chain...\u001b[0m\n",
      "Prompt after formatting:\n",
      "\u001b[32;1m\u001b[1;3mPlease rewrite the following research paper in the tone of Jar Jar Binks from Star Wars:\n",
      "\n",
      " \n",
      "\n",
      "Research Paper on Steve Jobs\n",
      "\n",
      "Introduction\n",
      "\n",
      "Steve Jobs was an American entrepreneur and business magnate who founded Apple Inc., and is widely credited for revolutionizing the personal computer, music and cell phone industries. He was also the chairman and CEO of Pixar, and was responsible for some of the most iconic products and ideas in the world of technology. Jobs had a significant impact on the technology industry, and his legacy will continue to live on in the world of technology and beyond.\n",
      "\n",
      "Three Most Important Events in Steve Jobs’ Life\n",
      "\n",
      "1. Co-Founding of Apple (1976)\n",
      "\n",
      "In 1976, Steve Jobs and Steve Wozniak co-founded Apple Computer Inc. with a mission to make computers more accessible and affordable to the public. Their first product was the Apple I, which was a single-board computer that Wozniak designed. The Apple I was sold for a retail price of $666.66, and was the first successful personal computer on the market.\n",
      "\n",
      "2. Development of the Macintosh (1984)\n",
      "\n",
      "In 1984, Apple launched the Macintosh, which was the first personal computer to feature a graphical user interface, mouse and a desktop metaphor. The Macintosh was revolutionary, and inspired the development of other\u001b[0m\n",
      "\n",
      "\u001b[1m> Finished chain.\u001b[0m\n",
      "\n",
      "\u001b[1m> Finished chain.\u001b[0m\n"
     ]
    }
   ],
   "source": [
    "# Passing the wikipedia entry and historical figure name into the LangChain\n",
    "response = research_paper_langchain({'entity_name': entity_name, 'wikipedia_entry': wikipedia_entry})"
   ]
  },
  {
   "cell_type": "code",
   "execution_count": 18,
   "metadata": {},
   "outputs": [
    {
     "data": {
      "text/plain": [
       "{'entity_name': 'Steve Jobs',\n",
       " 'wikipedia_entry': 'Page: Steve Jobs\\nSummary: Steven Paul Jobs (February 24, 1955 – October 5, 2011) was an American business magnate, inventor, and investor. He was the co-founder, chairman, and CEO of Apple; the chairman and majority shareholder of Pixar; a member of The Walt Disney Company\\'s board of directors following its acquisition of Pixar; and the founder, chairman, and CEO of NeXT. He was a pioneer of the personal computer revolution of the 1970s and 1980s, along with his early business partner and fellow Apple co-founder Steve Wozniak.\\nJobs was born in San Francisco to a Syrian father and German-American mother. He was adopted shortly after his birth. Jobs attended Reed College in 1972 before withdrawing that same year. In 1974, he traveled through India seeking enlightenment before later studying Zen Buddhism. He and Wozniak co-founded Apple in 1976 to sell Wozniak\\'s Apple I personal computer. Together the duo gained fame and wealth a year later with production and sale of the Apple II, one of the first highly successful mass-produced microcomputers. Jobs saw the commercial potential of the Xerox Alto in 1979, which was mouse-driven and had a graphical user interface (GUI). This led to the development of the unsuccessful Apple Lisa in 1983, followed by the breakthrough Macintosh in 1984, the first mass-produced computer with a GUI. The Macintosh introduced the desktop publishing industry in 1985 with the addition of the Apple LaserWriter, the first laser printer to feature vector graphics.\\nIn 1985, Jobs was forced out of Apple after a long power struggle with the company\\'s board and its then-CEO, John Sculley. That same year, Jobs took a few Apple employees with him to found NeXT, a computer platform development company that specialized in computers for higher-education and business markets. In addition, he helped to develop the visual effects industry when he funded the computer graphics division of George Lucas\\'s Lucasfilm in 1986. The new company was Pixar, which produced the first 3D computer-animated feature film Toy Story (1995) and went on to become a major animation studio, producing over 25 films since.\\nIn 1997, Jobs returned to Apple as CEO after the company\\'s acquisition of NeXT. He was largely responsible for reviving Apple, which was on the verge of bankruptcy. He worked closely with English designer Jony Ive to develop a line of products that had larger cultural ramifications, beginning with the \"Think different\" advertising campaign and leading to the Apple Store, App Store (iOS), iMac, iPad, iPod, iPhone, iTunes, and iTunes Store. In 2001, the original Mac OS was replaced with the completely new Mac OS X (later known as macOS), based on NeXT\\'s NeXTSTEP platform, giving the operating system a modern Unix-based foundation for the first time. In 2003, Jobs was diagnosed with a pancreatic neuroendocrine tumor. He died of respiratory arrest related to the tumor in 2011, at the age of 56, with Tim Cook succeeding him as CEO of Apple. In 2022, he was posthumously awarded the Presidential Medal of Freedom.',\n",
       " 'research_paper_outline': \"\\n\\nOutline of a Basic Research Paper on Steve Jobs\\n\\nI. Introduction\\nA. Overview of Steve Jobs\\nB. Overview of Significant Events\\n\\nII. Three Most Important Events in Steve Jobs' Life\\nA. Co-Founding of Apple (1976)\\nB. Development of the Macintosh (1984)\\nC. Return to Apple (1997)\\n\\nIII. Conclusion\\nA. Summary of Significant Events\\nB. Impact of Jobs on Apple and Technology Industry\",\n",
       " 'research_paper': '\\n\\nResearch Paper on Steve Jobs\\n\\nIntroduction\\n\\nSteve Jobs was an American entrepreneur and business magnate who founded Apple Inc., and is widely credited for revolutionizing the personal computer, music and cell phone industries. He was also the chairman and CEO of Pixar, and was responsible for some of the most iconic products and ideas in the world of technology. Jobs had a significant impact on the technology industry, and his legacy will continue to live on in the world of technology and beyond.\\n\\nThree Most Important Events in Steve Jobs’ Life\\n\\n1. Co-Founding of Apple (1976)\\n\\nIn 1976, Steve Jobs and Steve Wozniak co-founded Apple Computer Inc. with a mission to make computers more accessible and affordable to the public. Their first product was the Apple I, which was a single-board computer that Wozniak designed. The Apple I was sold for a retail price of $666.66, and was the first successful personal computer on the market.\\n\\n2. Development of the Macintosh (1984)\\n\\nIn 1984, Apple launched the Macintosh, which was the first personal computer to feature a graphical user interface, mouse and a desktop metaphor. The Macintosh was revolutionary, and inspired the development of other',\n",
       " 'jar_jar_paper': ' graphical user interfaces such as Microsoft Windows.\\n\\n3. Launch of the iPod (2001)\\n\\nIn 2001, Apple launched the iPod, which revolutionized the way people listened to music. The iPod was a portable digital media player that allowed people to store and play digital music files. The iPod was a huge success, and it eventually led to the development of other digital media devices such as the iPhone.\\n\\nMeesa Thinking:\\n\\nMeesa tinkin dat Steve Jobs was one of da most influential peeps in da tech world. Him and his fren Steve Wozniak founded Apple in 1976, and dey made da first successful personal computa. Den in 1984, dey released da Macintosh, which was da first computa wit a graphical user interface. Den in 2001, dey released da iPod, which changed da way people listened to music. Steve Jobs had a huge impact on da tech industry, and his legacy will live on forever.'}"
      ]
     },
     "execution_count": 18,
     "metadata": {},
     "output_type": "execute_result"
    }
   ],
   "source": [
    "response"
   ]
  },
  {
   "cell_type": "code",
   "execution_count": null,
   "metadata": {},
   "outputs": [],
   "source": []
  }
 ],
 "metadata": {
  "kernelspec": {
   "display_name": "Python 3",
   "language": "python",
   "name": "python3"
  },
  "language_info": {
   "codemirror_mode": {
    "name": "ipython",
    "version": 3
   },
   "file_extension": ".py",
   "mimetype": "text/x-python",
   "name": "python",
   "nbconvert_exporter": "python",
   "pygments_lexer": "ipython3",
   "version": "3.10.11"
  },
  "orig_nbformat": 4
 },
 "nbformat": 4,
 "nbformat_minor": 2
}
