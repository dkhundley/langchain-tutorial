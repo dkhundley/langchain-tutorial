{
 "cells": [
  {
   "attachments": {},
   "cell_type": "markdown",
   "metadata": {},
   "source": [
    "# Getting Started with LangChain\n",
    "This notebook shows how to assemble a basic LangChain chain of tasks using the OpenAI API as the backend. This tutorial will require you to have your own OpenAI API key."
   ]
  },
  {
   "attachments": {},
   "cell_type": "markdown",
   "metadata": {},
   "source": [
    "## Notebook Setup"
   ]
  },
  {
   "cell_type": "code",
   "execution_count": 1,
   "metadata": {},
   "outputs": [],
   "source": [
    "# Importing the necessary Python libraries\n",
    "import os\n",
    "import yaml\n",
    "from langchain.llms import OpenAI\n",
    "from langchain.prompts import PromptTemplate\n",
    "from langchain.chains import LLMChain, SequentialChain\n",
    "from langchain.utilities import WikipediaAPIWrapper"
   ]
  },
  {
   "cell_type": "code",
   "execution_count": 2,
   "metadata": {},
   "outputs": [],
   "source": [
    "# Loading the API key and organization ID from file (NOT pushed to GitHub)\n",
    "with open('../keys/api-keys.yaml') as f:\n",
    "    keys_yaml = yaml.safe_load(f)\n",
    "\n",
    "# Setting the OpenAI API key as an environment variable\n",
    "os.environ['OPENAI_API_KEY'] = keys_yaml['OPENAI_API_KEY']"
   ]
  },
  {
   "cell_type": "code",
   "execution_count": 3,
   "metadata": {},
   "outputs": [],
   "source": [
    "# Using LangChain to connect to OpenAI\n",
    "openai_llm = OpenAI()"
   ]
  },
  {
   "cell_type": "code",
   "execution_count": 4,
   "metadata": {},
   "outputs": [],
   "source": [
    "# Instantiating an object to obtain results from the Wikipedia API\n",
    "wikipedia_api = WikipediaAPIWrapper(top_k_results = 1)"
   ]
  },
  {
   "attachments": {},
   "cell_type": "markdown",
   "metadata": {},
   "source": [
    "## Prompt Templates\n",
    "In order to create a chained set of tasks, we need to instantiate the individual tasks with **prompt templates**. Prompt templates combine an input alongside some preset feature engineering to produce a precise result (also known as a Completion)."
   ]
  },
  {
   "cell_type": "code",
   "execution_count": 5,
   "metadata": {},
   "outputs": [],
   "source": [
    "# Creating a prompt template for checking to see if the inputted individual is a historical figure\n",
    "is_historical_figure_template = PromptTemplate(\n",
    "    input_variables = ['entity_name'],\n",
    "    template = 'Is the following entity a person, and if yes, would you consider this person to be a historical figure: {entity_name}. Please give me back just a yes or no answer.'\n",
    ")\n",
    "\n",
    "# Creating a prompt template for generating a research paper outline the three most important events in the historical figure's life\n",
    "research_paper_outline_template = PromptTemplate(\n",
    "    input_variables = ['entity_name', 'wikipedia_entry'],\n",
    "    template = 'The following is a Wikipedia entry about {entity_name}. Please provide for me an outline of a basic research paper with an introduction, the three most important events of this person\\'s life, and a conclusion. Here is the Wikipedia information:\\n\\n {wikipedia_entry}'\n",
    ")\n",
    "\n",
    "# Creating a prompt template for generating a research paper based on the outline generated from the previous prompt template\n",
    "research_paper_template = PromptTemplate(\n",
    "    input_variables = ['entity_name', 'research_paper_outline'],\n",
    "    template = 'You are a high schooler who has just been assigned research paper about a historical figure. The historical figure is {entity_name}, and the following is an outline to follow:\\n {research_paper_outline}. Please write a research paper approximately three pages in length.'\n",
    ")\n",
    "\n",
    "# Creating a prompt template for re-writing the research paper as Jar Jar Binks\n",
    "jar_jar_template = PromptTemplate(\n",
    "    input_variables = ['research_paper'],\n",
    "    template = 'Please rewrite the following research paper in the tone of Jar Jar Binks from Star Wars:\\n\\n {research_paper}'\n",
    ")"
   ]
  },
  {
   "cell_type": "code",
   "execution_count": 6,
   "metadata": {},
   "outputs": [],
   "source": [
    "# Instantiating the LangChains objects for all the prompt templates defined above\n",
    "is_historical_figure_chain = LLMChain(llm = openai_llm, prompt = is_historical_figure_template, verbose = True, output_key = 'is_historical_figure')\n",
    "research_paper_outline_chain = LLMChain(llm = openai_llm, prompt = research_paper_outline_template, verbose = True, output_key = 'research_paper_outline')\n",
    "research_paper_chain = LLMChain(llm = openai_llm, prompt = research_paper_template, verbose = True, output_key = 'research_paper')\n",
    "jar_jar_chain = LLMChain(llm = openai_llm, prompt = jar_jar_template, verbose = True, output_key = 'jar_jar_paper')"
   ]
  },
  {
   "attachments": {},
   "cell_type": "markdown",
   "metadata": {},
   "source": [
    "### Instantiating the Sequential Chain\n",
    "Now that we have defined our templates, we're ready to chain them together using LangChain's `SequentialChain()`. In the cell below, we will set the chains, the input variables, and the output variables. (We have also set the `verbose` flag to be `True`, although this doesn't matter. It's just nice to see!)"
   ]
  },
  {
   "cell_type": "code",
   "execution_count": 7,
   "metadata": {},
   "outputs": [],
   "source": [
    "# Creating the LangChain chain\n",
    "research_paper_langchain = SequentialChain(chains = [research_paper_outline_chain, research_paper_chain, jar_jar_chain],\n",
    "                                           input_variables = ['entity_name', 'wikipedia_entry'],\n",
    "                                           output_variables = ['research_paper_outline', 'research_paper', 'jar_jar_paper'],\n",
    "                                           verbose = True)"
   ]
  },
  {
   "attachments": {},
   "cell_type": "markdown",
   "metadata": {},
   "source": [
    "### Using the Sequential Chain\n",
    "We're ready to use our Sequential Chain! Let's go ahead and run it through the cells below."
   ]
  },
  {
   "cell_type": "code",
   "execution_count": 8,
   "metadata": {},
   "outputs": [],
   "source": [
    "# Setting an entity for test purposes\n",
    "entity_name = 'Steve Jobs'"
   ]
  },
  {
   "cell_type": "code",
   "execution_count": 9,
   "metadata": {},
   "outputs": [],
   "source": [
    "# Getting the wikipedia information associated to the historical figure\n",
    "wikipedia_entry = wikipedia_api.run(f'{entity_name} (person)')"
   ]
  },
  {
   "cell_type": "code",
   "execution_count": 10,
   "metadata": {},
   "outputs": [
    {
     "name": "stdout",
     "output_type": "stream",
     "text": [
      "\n",
      "\n",
      "\u001b[1m> Entering new SequentialChain chain...\u001b[0m\n",
      "\n",
      "\n",
      "\u001b[1m> Entering new LLMChain chain...\u001b[0m\n",
      "Prompt after formatting:\n",
      "\u001b[32;1m\u001b[1;3mThe following is a Wikipedia entry about Steve Jobs. Please provide for me an outline of a basic research paper with an introduction, the three most important events of this person's life, and a conclusion. Here is the Wikipedia information:\n",
      "\n",
      " Page: Steve Jobs\n",
      "Summary: Steven Paul Jobs (February 24, 1955 – October 5, 2011) was an American business magnate, inventor, and investor. He was the co-founder, chairman, and CEO of Apple; the chairman and majority shareholder of Pixar; a member of The Walt Disney Company's board of directors following its acquisition of Pixar; and the founder, chairman, and CEO of NeXT. He was a pioneer of the personal computer revolution of the 1970s and 1980s, along with his early business partner and fellow Apple co-founder Steve Wozniak.\n",
      "Jobs was born in San Francisco to a Syrian father and German-American mother. He was adopted shortly after his birth. Jobs attended Reed College in 1972 before withdrawing that same year. In 1974, he traveled through India seeking enlightenment before later studying Zen Buddhism. He and Wozniak co-founded Apple in 1976 to sell Wozniak's Apple I personal computer. Together the duo gained fame and wealth a year later with production and sale of the Apple II, one of the first highly successful mass-produced microcomputers. Jobs saw the commercial potential of the Xerox Alto in 1979, which was mouse-driven and had a graphical user interface (GUI). This led to the development of the unsuccessful Apple Lisa in 1983, followed by the breakthrough Macintosh in 1984, the first mass-produced computer with a GUI. The Macintosh introduced the desktop publishing industry in 1985 with the addition of the Apple LaserWriter, the first laser printer to feature vector graphics.\n",
      "In 1985, Jobs departed Apple after a long power struggle with the company's board and its then-CEO, John Sculley. That same year, Jobs took a few Apple employees with him to found NeXT, a computer platform development company that specialized in computers for higher-education and business markets. In addition, he helped to develop the visual effects industry when he funded the computer graphics division of George Lucas's Lucasfilm in 1986. The Graphics Group eventually spun off independently as Pixar, producing the first 3D computer-animated feature film Toy Story (1995) and becoming a leading animation studio, producing over 27 films since.\n",
      "In 1997, Jobs returned to Apple as CEO after the company's acquisition of NeXT. He was largely responsible for reviving Apple, which was on the verge of bankruptcy. He worked closely with British designer Jony Ive to develop a line of products that had larger cultural ramifications, beginning with the \"Think different\" advertising campaign and leading to the Apple Store, App Store (iOS), iMac, iPad, iPod, iPhone, iTunes, and iTunes Store. In 2001, the original Mac OS was replaced with the completely new Mac OS X (later known as macOS), based on NeXT's NeXTSTEP platform, giving the operating system a modern Unix-based foundation for the first time. In 2003, Jobs was diagnosed with a pancreatic neuroendocrine tumor. He died of respiratory arrest related to the tumor in 2011, at the age of 56, with Tim Cook succeeding him as CEO of Apple. In 2022, he was posthumously awarded the Presidential Medal of Freedom.\u001b[0m\n",
      "\n",
      "\u001b[1m> Finished chain.\u001b[0m\n",
      "\n",
      "\n",
      "\u001b[1m> Entering new LLMChain chain...\u001b[0m\n",
      "Prompt after formatting:\n",
      "\u001b[32;1m\u001b[1;3mYou are a high schooler who has just been assigned research paper about a historical figure. The historical figure is Steve Jobs, and the following is an outline to follow:\n",
      "  \n",
      "\n",
      "Outline of a Basic Research Paper on Steve Jobs\n",
      "\n",
      "I. Introduction\n",
      "A. Background Information on Steve Jobs\n",
      "B. Overview of the Three Most Important Events of Jobs’ Life\n",
      "\n",
      "II. Event One: Co-Founder of Apple Inc.\n",
      "A. Early Business Partner Steve Wozniak\n",
      "B. Apple I and Apple II Computers\n",
      "C. Personal Computer Revolution of 1970s & 1980s\n",
      "\n",
      "III. Event Two: Departure from Apple Inc.\n",
      "A. Power Struggle with Company’s Board and CEO\n",
      "B. Founding of NeXT\n",
      "C. Developing the Visual Effects Industry\n",
      "\n",
      "IV. Event Three: Return to Apple Inc.\n",
      "A. Reviving Apple from the Verge of Bankruptcy\n",
      "B. “Think Different” Advertising Campaign\n",
      "C. Apple Store, App Store, iMac, iPad, iPod, iPhone, iTunes, and iTunes Store\n",
      "\n",
      "V. Conclusion\n",
      "A. Diagnosis of Pancreatic Neuroendocrine Tumor\n",
      "B. Death of Respiratory Arrest Related to Tumor\n",
      "C. Posthumous Award of Presidential Medal of Freedom. Please write a research paper approximately three pages in length.\u001b[0m\n",
      "\n",
      "\u001b[1m> Finished chain.\u001b[0m\n",
      "\n",
      "\n",
      "\u001b[1m> Entering new LLMChain chain...\u001b[0m\n",
      "Prompt after formatting:\n",
      "\u001b[32;1m\u001b[1;3mPlease rewrite the following research paper in the tone of Jar Jar Binks from Star Wars:\n",
      "\n",
      " \n",
      "\n",
      "Introduction\n",
      "Steve Jobs is widely recognized as one of the most influential figures in the history of the personal computer revolution of the 1970s and 1980s. Born in San Francisco, California, Jobs began his career as a college dropout and co-founder of Apple Inc. alongside his business partner Steve Wozniak. Jobs was the driving force behind the development of the Apple I and Apple II computers, which popularized the personal computer and introduced a revolutionary new way of computing. In a series of three defining events throughout his career, Jobs left an indelible mark on the technology industry and the world at large. \n",
      "\n",
      "Event One: Co-Founder of Apple Inc.\n",
      "In 1976, Jobs and Wozniak introduced the world to the Apple I computer, which was one of the first personal computers made available to the public. The computer was easily customizable and expandable, and was an instant success. The following year, Apple released the Apple II which included color graphics, built-in BASIC programming language, and expansion slots. The Apple II became one of the most popular computers of the time and was credited with helping to launch the personal computer revolution.\n",
      "\n",
      "Event Two: Departure from Apple Inc.\n",
      "In 1985, Jobs\u001b[0m\n",
      "\n",
      "\u001b[1m> Finished chain.\u001b[0m\n",
      "\n",
      "\u001b[1m> Finished chain.\u001b[0m\n"
     ]
    },
    {
     "data": {
      "text/plain": [
       "{'entity_name': 'Steve Jobs',\n",
       " 'wikipedia_entry': 'Page: Steve Jobs\\nSummary: Steven Paul Jobs (February 24, 1955 – October 5, 2011) was an American business magnate, inventor, and investor. He was the co-founder, chairman, and CEO of Apple; the chairman and majority shareholder of Pixar; a member of The Walt Disney Company\\'s board of directors following its acquisition of Pixar; and the founder, chairman, and CEO of NeXT. He was a pioneer of the personal computer revolution of the 1970s and 1980s, along with his early business partner and fellow Apple co-founder Steve Wozniak.\\nJobs was born in San Francisco to a Syrian father and German-American mother. He was adopted shortly after his birth. Jobs attended Reed College in 1972 before withdrawing that same year. In 1974, he traveled through India seeking enlightenment before later studying Zen Buddhism. He and Wozniak co-founded Apple in 1976 to sell Wozniak\\'s Apple I personal computer. Together the duo gained fame and wealth a year later with production and sale of the Apple II, one of the first highly successful mass-produced microcomputers. Jobs saw the commercial potential of the Xerox Alto in 1979, which was mouse-driven and had a graphical user interface (GUI). This led to the development of the unsuccessful Apple Lisa in 1983, followed by the breakthrough Macintosh in 1984, the first mass-produced computer with a GUI. The Macintosh introduced the desktop publishing industry in 1985 with the addition of the Apple LaserWriter, the first laser printer to feature vector graphics.\\nIn 1985, Jobs departed Apple after a long power struggle with the company\\'s board and its then-CEO, John Sculley. That same year, Jobs took a few Apple employees with him to found NeXT, a computer platform development company that specialized in computers for higher-education and business markets. In addition, he helped to develop the visual effects industry when he funded the computer graphics division of George Lucas\\'s Lucasfilm in 1986. The Graphics Group eventually spun off independently as Pixar, producing the first 3D computer-animated feature film Toy Story (1995) and becoming a leading animation studio, producing over 27 films since.\\nIn 1997, Jobs returned to Apple as CEO after the company\\'s acquisition of NeXT. He was largely responsible for reviving Apple, which was on the verge of bankruptcy. He worked closely with British designer Jony Ive to develop a line of products that had larger cultural ramifications, beginning with the \"Think different\" advertising campaign and leading to the Apple Store, App Store (iOS), iMac, iPad, iPod, iPhone, iTunes, and iTunes Store. In 2001, the original Mac OS was replaced with the completely new Mac OS X (later known as macOS), based on NeXT\\'s NeXTSTEP platform, giving the operating system a modern Unix-based foundation for the first time. In 2003, Jobs was diagnosed with a pancreatic neuroendocrine tumor. He died of respiratory arrest related to the tumor in 2011, at the age of 56, with Tim Cook succeeding him as CEO of Apple. In 2022, he was posthumously awarded the Presidential Medal of Freedom.',\n",
       " 'research_paper_outline': ' \\n\\nOutline of a Basic Research Paper on Steve Jobs\\n\\nI. Introduction\\nA. Background Information on Steve Jobs\\nB. Overview of the Three Most Important Events of Jobs’ Life\\n\\nII. Event One: Co-Founder of Apple Inc.\\nA. Early Business Partner Steve Wozniak\\nB. Apple I and Apple II Computers\\nC. Personal Computer Revolution of 1970s & 1980s\\n\\nIII. Event Two: Departure from Apple Inc.\\nA. Power Struggle with Company’s Board and CEO\\nB. Founding of NeXT\\nC. Developing the Visual Effects Industry\\n\\nIV. Event Three: Return to Apple Inc.\\nA. Reviving Apple from the Verge of Bankruptcy\\nB. “Think Different” Advertising Campaign\\nC. Apple Store, App Store, iMac, iPad, iPod, iPhone, iTunes, and iTunes Store\\n\\nV. Conclusion\\nA. Diagnosis of Pancreatic Neuroendocrine Tumor\\nB. Death of Respiratory Arrest Related to Tumor\\nC. Posthumous Award of Presidential Medal of Freedom',\n",
       " 'research_paper': '\\n\\nIntroduction\\nSteve Jobs is widely recognized as one of the most influential figures in the history of the personal computer revolution of the 1970s and 1980s. Born in San Francisco, California, Jobs began his career as a college dropout and co-founder of Apple Inc. alongside his business partner Steve Wozniak. Jobs was the driving force behind the development of the Apple I and Apple II computers, which popularized the personal computer and introduced a revolutionary new way of computing. In a series of three defining events throughout his career, Jobs left an indelible mark on the technology industry and the world at large. \\n\\nEvent One: Co-Founder of Apple Inc.\\nIn 1976, Jobs and Wozniak introduced the world to the Apple I computer, which was one of the first personal computers made available to the public. The computer was easily customizable and expandable, and was an instant success. The following year, Apple released the Apple II which included color graphics, built-in BASIC programming language, and expansion slots. The Apple II became one of the most popular computers of the time and was credited with helping to launch the personal computer revolution.\\n\\nEvent Two: Departure from Apple Inc.\\nIn 1985, Jobs',\n",
       " 'jar_jar_paper': \" left Apple following a power struggle with then-CEO John Sculley. During his absence, Jobs founded NeXT Inc., a computer company focused on developing high-end workstations for the education and business markets. NeXT computers were known for their advanced software and elegant design, but failed to gain a foothold in the market due to their high price tag.\\n\\nEvent Three: Return to Apple Inc.\\nIn 1996, Jobs returned to Apple as a consultant. Over the next few years, he worked to turn Apple around and re-establish it as the premier computer company it once was. Jobs released a series of revolutionary products, including the iMac, iTunes, iPod, and iPhone. By the time of his death in 2011, Apple had become the most valuable company in the world.\\n\\nConclusion\\nThrough his leadership and innovation, Steve Jobs helped to revolutionize the technology industry and shape the world we live in today. His legacy lives on in the products and services that Apple has produced over the years, and his influence will be remembered for generations to come. \\n\\nMesa sayin' dis: Meesa tinkin' Steve Jobs was one of da most influential people in da history of da personal computer revolution. He and his pal Steve W\"}"
      ]
     },
     "execution_count": 10,
     "metadata": {},
     "output_type": "execute_result"
    }
   ],
   "source": [
    "# Passing the wikipedia entry and historical figure name into the LangChain\n",
    "response = research_paper_langchain({'entity_name': entity_name, 'wikipedia_entry': wikipedia_entry})\n",
    "response"
   ]
  }
 ],
 "metadata": {
  "kernelspec": {
   "display_name": "Python 3",
   "language": "python",
   "name": "python3"
  },
  "language_info": {
   "codemirror_mode": {
    "name": "ipython",
    "version": 3
   },
   "file_extension": ".py",
   "mimetype": "text/x-python",
   "name": "python",
   "nbconvert_exporter": "python",
   "pygments_lexer": "ipython3",
   "version": "3.11.4"
  },
  "orig_nbformat": 4
 },
 "nbformat": 4,
 "nbformat_minor": 2
}
