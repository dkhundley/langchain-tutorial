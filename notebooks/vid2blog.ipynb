{
 "cells": [
  {
   "cell_type": "markdown",
   "metadata": {},
   "source": [
    "# Vid2Blog\n",
    "\n",
    "This notebook was instigated by [a xeet posted by Andrej Karpathy](https://twitter.com/karpathy/status/1760740503614836917). Throughout this notebook, we will attempt to take a longform video and automatedly transform it into a blog post.\n",
    "\n",
    "## Strategy\n",
    "\n",
    "The strategy for enabling this will evolve over time, but here is what I am thinking as of right now:\n",
    "\n",
    "- Use the OpenAI Whisper API to transcribe the audio from the video.\n",
    "- Use LLM to break the transcription into logical segments.\n",
    "- Determine the timestamp chunks from the previous step's segmentated script.\n",
    "- Use something (there's gotta be something!) to automatedly break the video into chunks.\n",
    "- Extract frames at regular intervals and save them to disk for later use (This is tough to get right...)\n",
    "- Use LLM to summarize the segmented into an outline **in JSON form**. (Important to get it in a structured form for the next steps.)\n",
    "- In parallel, produce each segment of the blog post by passing in the following info in each parallel call:\n",
    "    - The full outline (Maybe this needs converted back from JSON into plaintext?)\n",
    "    - The transcribed text from that particular section\n",
    "    - GPT-V uses the images to give a better description of what's going on (Again, hard problem)\n",
    "- Run the full blog post back through the LLM for \"final clean up\", ensuring cohesion and proper attributions are moved to the end of the post"
   ]
  },
  {
   "cell_type": "markdown",
   "metadata": {},
   "source": [
    "## Notebook Setup\n",
    "Let's do our imports and such!"
   ]
  },
  {
   "cell_type": "code",
   "execution_count": 1,
   "metadata": {},
   "outputs": [],
   "source": [
    "import os\n",
    "import json\n",
    "import yaml\n",
    "from langchain_openai import ChatOpenAI\n",
    "from langchain.prompts import HumanMessagePromptTemplate"
   ]
  },
  {
   "cell_type": "code",
   "execution_count": 3,
   "metadata": {},
   "outputs": [],
   "source": [
    "# Loading my personal OpenAI API key\n",
    "with open('../keys/api-keys.yaml', 'r') as f:\n",
    "    API_KEYS = yaml.safe_load(f)"
   ]
  },
  {
   "cell_type": "code",
   "execution_count": null,
   "metadata": {},
   "outputs": [],
   "source": []
  }
 ],
 "metadata": {
  "kernelspec": {
   "display_name": "Python 3",
   "language": "python",
   "name": "python3"
  },
  "language_info": {
   "codemirror_mode": {
    "name": "ipython",
    "version": 3
   },
   "file_extension": ".py",
   "mimetype": "text/x-python",
   "name": "python",
   "nbconvert_exporter": "python",
   "pygments_lexer": "ipython3",
   "version": "3.11.7"
  }
 },
 "nbformat": 4,
 "nbformat_minor": 2
}
