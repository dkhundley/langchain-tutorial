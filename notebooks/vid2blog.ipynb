{
 "cells": [
  {
   "cell_type": "markdown",
   "metadata": {},
   "source": [
    "# Vid2Blog\n",
    "\n",
    "This notebook was instigated by [a xeet posted by Andrej Karpathy](https://twitter.com/karpathy/status/1760740503614836917). Throughout this notebook, we will attempt to take a longform video and automatedly transform it into a blog post.\n",
    "\n",
    "## \"Business\" Strategy\n",
    "The strategy for enabling this will evolve over time, but here is what I am thinking as of right now:\n",
    "\n",
    "- Use the OpenAI Whisper API to transcribe the audio from the video.\n",
    "- Use LLM to break the transcription into logical segments.\n",
    "- Determine the timestamp chunks from the previous step's segmentated script.\n",
    "- Use something (there's gotta be something!) to automatedly break the video into chunks.\n",
    "- Extract frames at regular intervals and save them to disk for later use (This is tough to get right...)\n",
    "- Use LLM to summarize the segmented into an outline **in JSON form**. (Important to get it in a structured form for the next steps.)\n",
    "- In parallel, produce each segment of the blog post by passing in the following info in each parallel call:\n",
    "    - The full outline (Maybe this needs converted back from JSON into plaintext?)\n",
    "    - The transcribed text from that particular section\n",
    "    - GPT-V uses the images to give a better description of what's going on (Again, hard problem)\n",
    "- Run the full blog post back through the LLM for \"final clean up\", ensuring cohesion and proper attributions are moved to the end of the post\n",
    "\n",
    "## Technical Strategy\n",
    "Let's takes the steps that we derived in the strategy above and start to write out a plan for making this happen:\n",
    "\n",
    "1. Programmatically download the video from YouTube. (Idk how to do this, but I'm sure there's a Python client that'll do the job.)\n",
    "    - Side step: Check to see if the video is already downloaded. If yes, use \"cached\" video.\n",
    "2. Separate the audio from the video and save it as an mp3 (?) file.\n",
    "3. Pass the audio into OpenAI's whisper API. (And save the transcript so I'm not breaking my bank by running that thing too much 😂)\n",
    "4. Use GPT-4 to break the audio into segments (Will need to do a bit of prompt engineering here)\n",
    "5. Somehow make that connection to determine how the timestamps align to each segment (tricky tricky...)"
   ]
  },
  {
   "cell_type": "markdown",
   "metadata": {},
   "source": [
    "## Notebook Setup\n",
    "Let's do our imports and such!"
   ]
  },
  {
   "cell_type": "code",
   "execution_count": 4,
   "metadata": {},
   "outputs": [],
   "source": [
    "import os\n",
    "import json\n",
    "import yaml\n",
    "from langchain_openai import ChatOpenAI\n",
    "from langchain.prompts import HumanMessagePromptTemplate\n",
    "from langchain_community.document_loaders import YoutubeLoader\n",
    "\n",
    "from pytube import YouTube"
   ]
  },
  {
   "cell_type": "code",
   "execution_count": 2,
   "metadata": {},
   "outputs": [],
   "source": [
    "# Loading my personal OpenAI API key\n",
    "with open('../keys/api-keys.yaml', 'r') as f:\n",
    "    API_KEYS = yaml.safe_load(f)"
   ]
  },
  {
   "cell_type": "markdown",
   "metadata": {},
   "source": [
    "# LangChain Setup\n",
    "Throughout this project, I'm going to attempt to make use of **LangChain**. Because we need to instantiate a bunch of stuff, let's just go ahead and knock that out now."
   ]
  },
  {
   "cell_type": "code",
   "execution_count": 3,
   "metadata": {},
   "outputs": [],
   "source": [
    "# Instantiating the OpenAI LLM client with LangChain\n",
    "llm = ChatOpenAI(\n",
    "    api_key = API_KEYS['OPENAI_API_KEY'],\n",
    "    model_name = 'gpt-4',\n",
    ")"
   ]
  },
  {
   "cell_type": "code",
   "execution_count": null,
   "metadata": {},
   "outputs": [],
   "source": []
  }
 ],
 "metadata": {
  "kernelspec": {
   "display_name": "Python 3",
   "language": "python",
   "name": "python3"
  },
  "language_info": {
   "codemirror_mode": {
    "name": "ipython",
    "version": 3
   },
   "file_extension": ".py",
   "mimetype": "text/x-python",
   "name": "python",
   "nbconvert_exporter": "python",
   "pygments_lexer": "ipython3",
   "version": "3.11.7"
  }
 },
 "nbformat": 4,
 "nbformat_minor": 2
}
